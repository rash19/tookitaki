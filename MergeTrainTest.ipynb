{
 "cells": [
  {
   "cell_type": "code",
   "execution_count": 31,
   "metadata": {
    "collapsed": true
   },
   "outputs": [],
   "source": [
    "from sklearn.preprocessing import normalize\n",
    "import pandas as pd\n",
    "import numpy as np"
   ]
  },
  {
   "cell_type": "code",
   "execution_count": 13,
   "metadata": {
    "collapsed": false
   },
   "outputs": [
    {
     "data": {
      "text/plain": [
       "71"
      ]
     },
     "execution_count": 13,
     "metadata": {},
     "output_type": "execute_result"
    }
   ],
   "source": [
    "# df_data_train = pd.read_csv(r'C:\\Users\\Saurabh Banga\\Desktop\\Tookitaki\\FinalData\\Data_Train.csv',engine='python')\n",
    "len(df_data_train.columns)"
   ]
  },
  {
   "cell_type": "code",
   "execution_count": 14,
   "metadata": {
    "collapsed": false
   },
   "outputs": [
    {
     "data": {
      "text/plain": [
       "71"
      ]
     },
     "execution_count": 14,
     "metadata": {},
     "output_type": "execute_result"
    }
   ],
   "source": [
    "# df_data_test = pd.read_csv(r'C:\\Users\\Saurabh Banga\\Desktop\\Tookitaki\\FinalData\\Data_Test.csv',engine='python')\n",
    "len(df_data_test.columns)"
   ]
  },
  {
   "cell_type": "code",
   "execution_count": 15,
   "metadata": {
    "collapsed": false
   },
   "outputs": [
    {
     "data": {
      "text/plain": [
       "102"
      ]
     },
     "execution_count": 15,
     "metadata": {},
     "output_type": "execute_result"
    }
   ],
   "source": [
    "# df_acc_train = pd.read_csv(r'C:\\Users\\Saurabh Banga\\Desktop\\Tookitaki\\FinalData\\Account_Train.csv',engine='python')\n",
    "len(df_acc_train.columns)"
   ]
  },
  {
   "cell_type": "code",
   "execution_count": 16,
   "metadata": {
    "collapsed": false
   },
   "outputs": [
    {
     "data": {
      "text/plain": [
       "102"
      ]
     },
     "execution_count": 16,
     "metadata": {},
     "output_type": "execute_result"
    }
   ],
   "source": [
    "# df_acc_test = pd.read_csv(r'C:\\Users\\Saurabh Banga\\Desktop\\Tookitaki\\FinalData\\Account_Test.csv',engine='python')\n",
    "len(df_acc_test.columns)"
   ]
  },
  {
   "cell_type": "code",
   "execution_count": 17,
   "metadata": {
    "collapsed": false
   },
   "outputs": [
    {
     "data": {
      "text/plain": [
       "198"
      ]
     },
     "execution_count": 17,
     "metadata": {},
     "output_type": "execute_result"
    }
   ],
   "source": [
    "# df_enq_train = pd.read_csv(r'C:\\Users\\Saurabh Banga\\Desktop\\Tookitaki\\FinalData\\Enquiry_Train.csv',engine='python')\n",
    "len(df_enq_train.columns)"
   ]
  },
  {
   "cell_type": "code",
   "execution_count": 18,
   "metadata": {
    "collapsed": false
   },
   "outputs": [
    {
     "data": {
      "text/plain": [
       "198"
      ]
     },
     "execution_count": 18,
     "metadata": {},
     "output_type": "execute_result"
    }
   ],
   "source": [
    "# df_enq_test = pd.read_csv(r'C:\\Users\\Saurabh Banga\\Desktop\\Tookitaki\\FinalData\\Enquiry_Test.csv',engine='python')\n",
    "len(df_enq_test.columns)"
   ]
  },
  {
   "cell_type": "code",
   "execution_count": 19,
   "metadata": {
    "collapsed": false
   },
   "outputs": [
    {
     "data": {
      "text/plain": [
       "269"
      ]
     },
     "execution_count": 19,
     "metadata": {},
     "output_type": "execute_result"
    }
   ],
   "source": [
    "# concatDataEnqTrain = pd.concat([df_data_train,df_enq_train],axis=1)\n",
    "# concatDataEnqTest = pd.concat([df_data_test,df_enq_test],axis=1)\n",
    "len(concatDataEnqTrain.columns)\n",
    "len(concatDataEnqTest.columns)"
   ]
  },
  {
   "cell_type": "code",
   "execution_count": 20,
   "metadata": {
    "collapsed": false
   },
   "outputs": [
    {
     "data": {
      "text/plain": [
       "369"
      ]
     },
     "execution_count": 20,
     "metadata": {},
     "output_type": "execute_result"
    }
   ],
   "source": [
    "# TrainData = pd.merge(concatDataEnqTrain,df_acc_train, on = ['customer_no', 'Bad_label'], how='inner')\n",
    "# TrainData.to_csv(r'C:\\Users\\Saurabh Banga\\Desktop\\Tookitaki\\FinalData\\Train.csv')\n",
    "len(TrainData.columns)"
   ]
  },
  {
   "cell_type": "code",
   "execution_count": 21,
   "metadata": {
    "collapsed": false
   },
   "outputs": [
    {
     "data": {
      "text/plain": [
       "369"
      ]
     },
     "execution_count": 21,
     "metadata": {},
     "output_type": "execute_result"
    }
   ],
   "source": [
    "# TestData = pd.merge(concatDataEnqTest,df_acc_test, on = ['customer_no', 'Bad_label'], how='inner')\n",
    "# TrainData.to_csv(r'C:\\Users\\Saurabh Banga\\Desktop\\Tookitaki\\FinalData\\Test.csv')\n",
    "len(TestData.columns)"
   ]
  },
  {
   "cell_type": "code",
   "execution_count": 32,
   "metadata": {
    "collapsed": false
   },
   "outputs": [
    {
     "ename": "ValueError",
     "evalue": "could not convert string to float: '\"9'",
     "output_type": "error",
     "traceback": [
      "\u001b[0;31m---------------------------------------------------------------------------\u001b[0m",
      "\u001b[0;31mValueError\u001b[0m                                Traceback (most recent call last)",
      "\u001b[0;32m<ipython-input-32-f059a3245766>\u001b[0m in \u001b[0;36m<module>\u001b[0;34m()\u001b[0m\n\u001b[1;32m      1\u001b[0m \u001b[1;31m# TrainData.drop(['Unnamed: 0_x','Unnamed: 0_y','Unnamed: 0.1'],axis=1,inplace=True)\u001b[0m\u001b[1;33m\u001b[0m\u001b[1;33m\u001b[0m\u001b[0m\n\u001b[1;32m      2\u001b[0m \u001b[0mX_train\u001b[0m \u001b[1;33m=\u001b[0m \u001b[0mTrainData\u001b[0m\u001b[1;33m.\u001b[0m\u001b[0mvalues\u001b[0m\u001b[1;33m\u001b[0m\u001b[0m\n\u001b[0;32m----> 3\u001b[0;31m \u001b[0mX_train_norm\u001b[0m \u001b[1;33m=\u001b[0m \u001b[0mnormalize\u001b[0m\u001b[1;33m(\u001b[0m\u001b[0mX_train\u001b[0m\u001b[1;33m,\u001b[0m \u001b[0mnorm\u001b[0m\u001b[1;33m=\u001b[0m\u001b[1;34m'l2'\u001b[0m\u001b[1;33m,\u001b[0m \u001b[0maxis\u001b[0m\u001b[1;33m=\u001b[0m\u001b[1;36m0\u001b[0m\u001b[1;33m,\u001b[0m \u001b[0mcopy\u001b[0m\u001b[1;33m=\u001b[0m\u001b[1;32mFalse\u001b[0m\u001b[1;33m)\u001b[0m\u001b[1;33m\u001b[0m\u001b[0m\n\u001b[0m\u001b[1;32m      4\u001b[0m \u001b[0mY_train\u001b[0m\u001b[1;33m=\u001b[0m \u001b[0mdf_num\u001b[0m\u001b[1;33m[\u001b[0m\u001b[1;34m'Bad_label'\u001b[0m\u001b[1;33m]\u001b[0m\u001b[1;33m.\u001b[0m\u001b[0mvalues\u001b[0m\u001b[1;33m\u001b[0m\u001b[0m\n",
      "\u001b[0;32mC:\\Users\\Saurabh Banga\\Anaconda3\\lib\\site-packages\\sklearn\\preprocessing\\data.py\u001b[0m in \u001b[0;36mnormalize\u001b[0;34m(X, norm, axis, copy)\u001b[0m\n\u001b[1;32m   1278\u001b[0m \u001b[1;33m\u001b[0m\u001b[0m\n\u001b[1;32m   1279\u001b[0m     X = check_array(X, sparse_format, copy=copy, warn_on_dtype=True,\n\u001b[0;32m-> 1280\u001b[0;31m                     estimator='the normalize function', dtype=FLOAT_DTYPES)\n\u001b[0m\u001b[1;32m   1281\u001b[0m     \u001b[1;32mif\u001b[0m \u001b[0maxis\u001b[0m \u001b[1;33m==\u001b[0m \u001b[1;36m0\u001b[0m\u001b[1;33m:\u001b[0m\u001b[1;33m\u001b[0m\u001b[0m\n\u001b[1;32m   1282\u001b[0m         \u001b[0mX\u001b[0m \u001b[1;33m=\u001b[0m \u001b[0mX\u001b[0m\u001b[1;33m.\u001b[0m\u001b[0mT\u001b[0m\u001b[1;33m\u001b[0m\u001b[0m\n",
      "\u001b[0;32mC:\\Users\\Saurabh Banga\\Anaconda3\\lib\\site-packages\\sklearn\\utils\\validation.py\u001b[0m in \u001b[0;36mcheck_array\u001b[0;34m(array, accept_sparse, dtype, order, copy, force_all_finite, ensure_2d, allow_nd, ensure_min_samples, ensure_min_features, warn_on_dtype, estimator)\u001b[0m\n\u001b[1;32m    371\u001b[0m                                       force_all_finite)\n\u001b[1;32m    372\u001b[0m     \u001b[1;32melse\u001b[0m\u001b[1;33m:\u001b[0m\u001b[1;33m\u001b[0m\u001b[0m\n\u001b[0;32m--> 373\u001b[0;31m         \u001b[0marray\u001b[0m \u001b[1;33m=\u001b[0m \u001b[0mnp\u001b[0m\u001b[1;33m.\u001b[0m\u001b[0marray\u001b[0m\u001b[1;33m(\u001b[0m\u001b[0marray\u001b[0m\u001b[1;33m,\u001b[0m \u001b[0mdtype\u001b[0m\u001b[1;33m=\u001b[0m\u001b[0mdtype\u001b[0m\u001b[1;33m,\u001b[0m \u001b[0morder\u001b[0m\u001b[1;33m=\u001b[0m\u001b[0morder\u001b[0m\u001b[1;33m,\u001b[0m \u001b[0mcopy\u001b[0m\u001b[1;33m=\u001b[0m\u001b[0mcopy\u001b[0m\u001b[1;33m)\u001b[0m\u001b[1;33m\u001b[0m\u001b[0m\n\u001b[0m\u001b[1;32m    374\u001b[0m \u001b[1;33m\u001b[0m\u001b[0m\n\u001b[1;32m    375\u001b[0m         \u001b[1;32mif\u001b[0m \u001b[0mensure_2d\u001b[0m\u001b[1;33m:\u001b[0m\u001b[1;33m\u001b[0m\u001b[0m\n",
      "\u001b[0;31mValueError\u001b[0m: could not convert string to float: '\"9'"
     ]
    }
   ],
   "source": [
    "# TrainData.drop(['Unnamed: 0_x','Unnamed: 0_y','Unnamed: 0.1'],axis=1,inplace=True)\n",
    "X_train = TrainData.values\n",
    "X_train_norm = normalize(X_train, norm='l2', axis=0, copy=False)\n",
    "Y_train= df_num['Bad_label'].values"
   ]
  },
  {
   "cell_type": "code",
   "execution_count": 25,
   "metadata": {
    "collapsed": false
   },
   "outputs": [
    {
     "name": "stdout",
     "output_type": "stream",
     "text": [
      "['Unnamed: 0_x' 'Bad_label' 'customer_no' 'dt_opened_x' 'entry_time'\n",
      " 'feature_1' 'feature_11' 'feature_12' 'feature_14' 'feature_15'\n",
      " 'feature_16' 'feature_19' 'feature_2' 'feature_20' 'feature_21'\n",
      " 'feature_22' 'feature_23' 'feature_24' 'feature_25' 'feature_26'\n",
      " 'feature_27' 'feature_28' 'feature_29' 'feature_3' 'feature_30'\n",
      " 'feature_31' 'feature_32' 'feature_33' 'feature_34' 'feature_35'\n",
      " 'feature_36' 'feature_37' 'feature_38' 'feature_39' 'feature_4'\n",
      " 'feature_40' 'feature_41' 'feature_42' 'feature_43' 'feature_44'\n",
      " 'feature_46' 'feature_47' 'feature_5' 'feature_50' 'feature_51'\n",
      " 'feature_52' 'feature_53' 'feature_54' 'feature_55' 'feature_56'\n",
      " 'feature_58' 'feature_59' 'feature_6' 'feature_60' 'feature_62'\n",
      " 'feature_63' 'feature_64' 'feature_65' 'feature_66' 'feature_67'\n",
      " 'feature_68' 'feature_69' 'feature_7' 'feature_70' 'feature_71'\n",
      " 'feature_72' 'feature_75' 'feature_76' 'feature_77' 'feature_78'\n",
      " 'feature_79' 'Unnamed: 0_x' '1' '2' '3' '4' '5' '6' '7' '8' '9' '10' '11'\n",
      " '12' '13' '14' '15' '16' '17' '18' '19' '20' '21' '22' '23' '24' '25' '26'\n",
      " '27' '28' '29' '30' '31' '32' '33' '34' '35' '36' '37' '38' '39' '40' '41'\n",
      " '42' '43' '44' '45' '46' '47' '48' '49' '50' '51' '52' '53' '54' '55' '56'\n",
      " '57' '58' '59' '60' '61' '62' '63' '64' '65' '66' '67' '68' '69' '70' '71'\n",
      " '72' '73' '74' '75' '76' '77' '78' '79' '80' '81' '82' '83' '84' '85' '86'\n",
      " '87' '88' '89' '90' '91' '92' '93' '94' '95' '96' '97' '98' '99' '100'\n",
      " '101' '102' '103' '104' '105' '106' '107' '108' '109' '110' '111' '112'\n",
      " '113' '114' '115' '116' '117' '118' '119' '120' '121' '122' '123' '124'\n",
      " '125' '126' '127' '128' '129' '130' '131' '132' '133' '134' '135' '136'\n",
      " '137' '138' '139' '140' '141' '142' '143' '144' '145' '146' '147' '148'\n",
      " '149' '150' '151' '152' '153' '154' '155' '156' '157' '158' '159' '160'\n",
      " '161' '162' '163' '164' '165' '166' '167' '168' '169' '170' '171' '172'\n",
      " '173' '174' '175' '176' '177' '178' '179' '180' '181' '182' '183' '184'\n",
      " '185' '186' '187' '188' '189' '190' '191' '192' '193' '194' '195' '196'\n",
      " '197' 'Unnamed: 0_y' 'Unnamed: 0.1' 'dt_opened_y' 'upload_dt' 'acct_type'\n",
      " 'owner_indic' 'opened_dt' 'last_paymt_dt' 'closed_dt' 'reporting_dt'\n",
      " 'high_credit_amt' 'cur_balance_amt' 'amt_past_due' 'paymenthistory1'\n",
      " 'paymenthistory2' 'paymt_str_dt' 'paymt_end_dt' 'creditlimit' 'cashlimit'\n",
      " 'rateofinterest' 'paymentfrequency' 'actualpaymentamount' 'XXX1' 'SMA1'\n",
      " 'STD1' 'SUB1' 'DBT1' 'LOSS1' 'delayDays1' \"('high_credit_amt', 'max')\"\n",
      " \"('high_credit_amt', 'min')\" \"('high_credit_amt', 'mean')\"\n",
      " \"('high_credit_amt', 'sum')\" \"('cur_balance_amt', 'max')\"\n",
      " \"('cur_balance_amt', 'min')\" \"('cur_balance_amt', 'mean')\"\n",
      " \"('cur_balance_amt', 'sum')\" \"('cashlimit', 'max')\" \"('cashlimit', 'min')\"\n",
      " \"('cashlimit', 'mean')\" \"('cashlimit', 'sum')\" \"('XXX1', 'max')\"\n",
      " \"('XXX1', 'min')\" \"('XXX1', 'mean')\" \"('XXX1', 'sum')\" \"('SMA1', 'max')\"\n",
      " \"('SMA1', 'min')\" \"('SMA1', 'mean')\" \"('SMA1', 'sum')\" \"('DBT1', 'max')\"\n",
      " \"('DBT1', 'min')\" \"('DBT1', 'mean')\" \"('DBT1', 'sum')\" \"('SUB1', 'max')\"\n",
      " \"('SUB1', 'min')\" \"('SUB1', 'mean')\" \"('SUB1', 'sum')\"\n",
      " \"('delayDays1', 'max')\" \"('delayDays1', 'min')\" \"('delayDays1', 'mean')\"\n",
      " \"('delayDays1', 'sum')\" \"('creditlimit', 'max')\" \"('creditlimit', 'min')\"\n",
      " \"('creditlimit', 'mean')\" \"('creditlimit', 'sum')\" \"('STD1', 'max')\"\n",
      " \"('STD1', 'min')\" \"('STD1', 'mean')\" \"('STD1', 'sum')\" \"('LOSS1', 'max')\"\n",
      " \"('LOSS1', 'min')\" \"('LOSS1', 'mean')\" \"('LOSS1', 'sum')\"\n",
      " 'currBal_by_creditLim' 'highCr_by_currBal' 'creditLim_by_highCr'\n",
      " 'currBal_by_highCr' 'currBal-highCr' 'dist_highCr' 'dist_currBal'\n",
      " 'dist_cashLim' 'dist_creditLim' 'diff_creditLim_highCr'\n",
      " 'diff_currBal_highCr' \"('diff_creditLim_highCr', 'max')\"\n",
      " \"('diff_creditLim_highCr', 'min')\" \"('diff_creditLim_highCr', 'mean')\"\n",
      " \"('diff_creditLim_highCr', 'sum')\" \"('diff_currBal_highCr', 'max')\"\n",
      " \"('diff_currBal_highCr', 'min')\" \"('diff_currBal_highCr', 'mean')\"\n",
      " \"('diff_currBal_highCr', 'sum')\" 'dist_diff_creditLim_highCr'\n",
      " 'dist_diff_currBal_highCr' 'diff_creditLim_currBal' 'diff_cashLim_currBal'\n",
      " 'diff_creditLim_sumCashLimCurrBal' 'currBal_by_delayDays1'\n",
      " 'highCr_by_delayDays1' 'creditLim_by_delayDays1']\n",
      "['Bad_label' 'customer_no' 'dt_opened_x' 'entry_time' 'feature_1'\n",
      " 'feature_11' 'feature_12' 'feature_14' 'feature_15' 'feature_16'\n",
      " 'feature_19' 'feature_2' 'feature_20' 'feature_21' 'feature_22'\n",
      " 'feature_23' 'feature_24' 'feature_25' 'feature_26' 'feature_27'\n",
      " 'feature_28' 'feature_29' 'feature_3' 'feature_30' 'feature_31'\n",
      " 'feature_32' 'feature_33' 'feature_34' 'feature_35' 'feature_36'\n",
      " 'feature_37' 'feature_38' 'feature_39' 'feature_4' 'feature_40'\n",
      " 'feature_41' 'feature_42' 'feature_43' 'feature_44' 'feature_46'\n",
      " 'feature_47' 'feature_5' 'feature_50' 'feature_51' 'feature_52'\n",
      " 'feature_53' 'feature_54' 'feature_55' 'feature_56' 'feature_58'\n",
      " 'feature_59' 'feature_6' 'feature_60' 'feature_62' 'feature_63'\n",
      " 'feature_64' 'feature_65' 'feature_66' 'feature_67' 'feature_68'\n",
      " 'feature_69' 'feature_7' 'feature_70' 'feature_71' 'feature_72'\n",
      " 'feature_75' 'feature_76' 'feature_77' 'feature_78' 'feature_79' '1' '2'\n",
      " '3' '4' '5' '6' '7' '8' '9' '10' '11' '12' '13' '14' '15' '16' '17' '18'\n",
      " '19' '20' '21' '22' '23' '24' '25' '26' '27' '28' '29' '30' '31' '32' '33'\n",
      " '34' '35' '36' '37' '38' '39' '40' '41' '42' '43' '44' '45' '46' '47' '48'\n",
      " '49' '50' '51' '52' '53' '54' '55' '56' '57' '58' '59' '60' '61' '62' '63'\n",
      " '64' '65' '66' '67' '68' '69' '70' '71' '72' '73' '74' '75' '76' '77' '78'\n",
      " '79' '80' '81' '82' '83' '84' '85' '86' '87' '88' '89' '90' '91' '92' '93'\n",
      " '94' '95' '96' '97' '98' '99' '100' '101' '102' '103' '104' '105' '106'\n",
      " '107' '108' '109' '110' '111' '112' '113' '114' '115' '116' '117' '118'\n",
      " '119' '120' '121' '122' '123' '124' '125' '126' '127' '128' '129' '130'\n",
      " '131' '132' '133' '134' '135' '136' '137' '138' '139' '140' '141' '142'\n",
      " '143' '144' '145' '146' '147' '148' '149' '150' '151' '152' '153' '154'\n",
      " '155' '156' '157' '158' '159' '160' '161' '162' '163' '164' '165' '166'\n",
      " '167' '168' '169' '170' '171' '172' '173' '174' '175' '176' '177' '178'\n",
      " '179' '180' '181' '182' '183' '184' '185' '186' '187' '188' '189' '190'\n",
      " '191' '192' '193' '194' '195' '196' '197' 'dt_opened_y' 'upload_dt'\n",
      " 'acct_type' 'owner_indic' 'opened_dt' 'last_paymt_dt' 'closed_dt'\n",
      " 'reporting_dt' 'high_credit_amt' 'cur_balance_amt' 'amt_past_due'\n",
      " 'paymenthistory1' 'paymenthistory2' 'paymt_str_dt' 'paymt_end_dt'\n",
      " 'creditlimit' 'cashlimit' 'rateofinterest' 'paymentfrequency'\n",
      " 'actualpaymentamount' 'XXX1' 'SMA1' 'STD1' 'SUB1' 'DBT1' 'LOSS1'\n",
      " 'delayDays1' \"('high_credit_amt', 'max')\" \"('high_credit_amt', 'min')\"\n",
      " \"('high_credit_amt', 'mean')\" \"('high_credit_amt', 'sum')\"\n",
      " \"('cur_balance_amt', 'max')\" \"('cur_balance_amt', 'min')\"\n",
      " \"('cur_balance_amt', 'mean')\" \"('cur_balance_amt', 'sum')\"\n",
      " \"('cashlimit', 'max')\" \"('cashlimit', 'min')\" \"('cashlimit', 'mean')\"\n",
      " \"('cashlimit', 'sum')\" \"('XXX1', 'max')\" \"('XXX1', 'min')\"\n",
      " \"('XXX1', 'mean')\" \"('XXX1', 'sum')\" \"('SMA1', 'max')\" \"('SMA1', 'min')\"\n",
      " \"('SMA1', 'mean')\" \"('SMA1', 'sum')\" \"('DBT1', 'max')\" \"('DBT1', 'min')\"\n",
      " \"('DBT1', 'mean')\" \"('DBT1', 'sum')\" \"('SUB1', 'max')\" \"('SUB1', 'min')\"\n",
      " \"('SUB1', 'mean')\" \"('SUB1', 'sum')\" \"('delayDays1', 'max')\"\n",
      " \"('delayDays1', 'min')\" \"('delayDays1', 'mean')\" \"('delayDays1', 'sum')\"\n",
      " \"('creditlimit', 'max')\" \"('creditlimit', 'min')\"\n",
      " \"('creditlimit', 'mean')\" \"('creditlimit', 'sum')\" \"('STD1', 'max')\"\n",
      " \"('STD1', 'min')\" \"('STD1', 'mean')\" \"('STD1', 'sum')\" \"('LOSS1', 'max')\"\n",
      " \"('LOSS1', 'min')\" \"('LOSS1', 'mean')\" \"('LOSS1', 'sum')\"\n",
      " 'currBal_by_creditLim' 'highCr_by_currBal' 'creditLim_by_highCr'\n",
      " 'currBal_by_highCr' 'currBal-highCr' 'dist_highCr' 'dist_currBal'\n",
      " 'dist_cashLim' 'dist_creditLim' 'diff_creditLim_highCr'\n",
      " 'diff_currBal_highCr' \"('diff_creditLim_highCr', 'max')\"\n",
      " \"('diff_creditLim_highCr', 'min')\" \"('diff_creditLim_highCr', 'mean')\"\n",
      " \"('diff_creditLim_highCr', 'sum')\" \"('diff_currBal_highCr', 'max')\"\n",
      " \"('diff_currBal_highCr', 'min')\" \"('diff_currBal_highCr', 'mean')\"\n",
      " \"('diff_currBal_highCr', 'sum')\" 'dist_diff_creditLim_highCr'\n",
      " 'dist_diff_currBal_highCr' 'diff_creditLim_currBal' 'diff_cashLim_currBal'\n",
      " 'diff_creditLim_sumCashLimCurrBal' 'currBal_by_delayDays1'\n",
      " 'highCr_by_delayDays1' 'creditLim_by_delayDays1']\n"
     ]
    }
   ],
   "source": [
    "TestData.drop(['Unnamed: 0_x','Unnamed: 0_y','Unnamed: 0.1'],axis=1,inplace=True)\n",
    "# X_test = TestData.values\n",
    "# X_test_norm = normalize(X_test, norm='l2', axis=0, copy=False)\n",
    "# Y_test = df_num['Bad_label'].values"
   ]
  }
 ],
 "metadata": {
  "anaconda-cloud": {},
  "kernelspec": {
   "display_name": "Python [default]",
   "language": "python",
   "name": "python3"
  },
  "language_info": {
   "codemirror_mode": {
    "name": "ipython",
    "version": 3
   },
   "file_extension": ".py",
   "mimetype": "text/x-python",
   "name": "python",
   "nbconvert_exporter": "python",
   "pygments_lexer": "ipython3",
   "version": "3.5.2"
  }
 },
 "nbformat": 4,
 "nbformat_minor": 1
}
