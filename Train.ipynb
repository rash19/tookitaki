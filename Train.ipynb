{
 "cells": [
  {
   "cell_type": "code",
   "execution_count": 1,
   "metadata": {
    "collapsed": true
   },
   "outputs": [],
   "source": [
    "import datetime\n",
    "import pandas as pd\n",
    "from scipy import stats\n",
    "import numpy as np\n",
    "import pickle"
   ]
  },
  {
   "cell_type": "code",
   "execution_count": 2,
   "metadata": {
    "collapsed": true
   },
   "outputs": [],
   "source": [
    "# Function to compute the frequency of the dpd for a customer\n",
    "def frequencyOfDPD(arr):\n",
    "    value = []\n",
    "    count=0\n",
    "    for index, x in np.ndenumerate(arr):\n",
    "        dpdlist=[]\n",
    "        x = x.strip('\"\"\"')\n",
    "        f = [x[i:i+3] for i in range(0,len(x),3)]\n",
    "        for each in f:\n",
    "            try:\n",
    "                dpdlist.append(int(each))\n",
    "                continue\n",
    "            except(ValueError, Exception) as e:\n",
    "                continue\n",
    "        if dpdlist:\n",
    "            value.append(len(dpdlist))\n",
    "        else:\n",
    "            value.append(0)\n",
    "    return value"
   ]
  },
  {
   "cell_type": "code",
   "execution_count": 3,
   "metadata": {
    "collapsed": true
   },
   "outputs": [],
   "source": [
    "# Return n recent dpd from payment history. If none then return the sum of all dpd for one history.\n",
    "def latestNdpd(arr,freq=None):\n",
    "    value = []\n",
    "    for index, x in np.ndenumerate(arr):\n",
    "        dpdlist=[]\n",
    "        count=0\n",
    "        x = x.strip('\"\"\"')\n",
    "        f = [x[i:i+3] for i in range(0,len(x),3)]\n",
    "        for each in f:\n",
    "            try:\n",
    "                dpdlist.append(int(each))\n",
    "                continue\n",
    "            except(ValueError, Exception) as e:\n",
    "                dpdlist.append(0)\n",
    "                continue\n",
    "        if dpdlist:\n",
    "            if freq==None:\n",
    "                for dpd in dpdlist:\n",
    "                    count+=dpd\n",
    "                value.append(count)\n",
    "            else:\n",
    "                try:\n",
    "                    if dpdlist[freq-1]!=0:\n",
    "                        value.append(1)\n",
    "                        continue\n",
    "                    else:\n",
    "                        value.append(0)\n",
    "                except(IndexError) as e:\n",
    "                    value.append(0)\n",
    "                    continue\n",
    "        else:\n",
    "            value.append(0)\n",
    "    return value"
   ]
  },
  {
   "cell_type": "code",
   "execution_count": 4,
   "metadata": {
    "collapsed": true
   },
   "outputs": [],
   "source": [
    "def countCredit(x):\n",
    "    count=0\n",
    "    for index, item in np.ndenumerate(x.values):\n",
    "        if item in [10,35,14,31]:\n",
    "            count+=1\n",
    "    return count/len(x)"
   ]
  },
  {
   "cell_type": "code",
   "execution_count": 5,
   "metadata": {
    "collapsed": true
   },
   "outputs": [],
   "source": [
    "def countAccount(x):\n",
    "    count=0\n",
    "    for index, item in np.ndenumerate(x.values):\n",
    "        if item in [1,2,3,4,5,6,7,8,9,13,15,17,32,33,34,41,41,42,51,54,59,60]:\n",
    "            count+=1\n",
    "    return count/len(x)"
   ]
  },
  {
   "cell_type": "code",
   "execution_count": 6,
   "metadata": {
    "collapsed": true
   },
   "outputs": [],
   "source": [
    "def paymthistorylength(x):\n",
    "    count=0\n",
    "    for index, str in np.ndenumerate(x):\n",
    "        str = str.strip('\"\"\"')\n",
    "        count+=len(str)\n",
    "    return count/len(x)"
   ]
  },
  {
   "cell_type": "code",
   "execution_count": 7,
   "metadata": {
    "collapsed": true
   },
   "outputs": [],
   "source": [
    "def findMode(arr):\n",
    "    return (stats.mode(arr)).mode"
   ]
  },
  {
   "cell_type": "code",
   "execution_count": 8,
   "metadata": {
    "collapsed": true
   },
   "outputs": [],
   "source": [
    "df_data = pd.read_csv(r'C:\\Users\\Dell\\Desktop\\raw_data_70_new.csv',engine='python')\n",
    "df_account = pd.read_csv(r'C:\\Users\\Dell\\Desktop\\raw_account_70_new.csv',engine='python', parse_dates = ['dt_opened','upload_dt', 'opened_dt', 'paymt_str_dt', 'paymt_end_dt','last_paymt_dt','closed_dt','reporting_dt'])\n",
    "df_enquiry = pd.read_csv(r'C:\\Users\\Dell\\Desktop\\raw_enquiry_70_new.csv',engine='python', parse_dates = ['dt_opened','upload_dt', 'enquiry_dt'])"
   ]
  },
  {
   "cell_type": "code",
   "execution_count": 9,
   "metadata": {},
   "outputs": [
    {
     "data": {
      "text/plain": [
       "dt_opened          0\n",
       "customer_no        0\n",
       "entry_time        15\n",
       "feature_1         15\n",
       "feature_2       2836\n",
       "feature_3       2836\n",
       "feature_4         15\n",
       "feature_5         15\n",
       "feature_6         15\n",
       "feature_7         15\n",
       "feature_8      22635\n",
       "feature_9      22635\n",
       "feature_10     23845\n",
       "feature_11        15\n",
       "feature_12        15\n",
       "feature_13     13004\n",
       "feature_14      7733\n",
       "feature_15        23\n",
       "feature_16        27\n",
       "feature_17     22869\n",
       "feature_18     23878\n",
       "feature_19        15\n",
       "feature_20         0\n",
       "feature_21        15\n",
       "feature_22         0\n",
       "feature_23        15\n",
       "feature_24       640\n",
       "feature_25        15\n",
       "feature_26        15\n",
       "feature_27      3637\n",
       "               ...  \n",
       "feature_51     11422\n",
       "feature_52        15\n",
       "feature_53     11610\n",
       "feature_54        15\n",
       "feature_55        15\n",
       "feature_56        15\n",
       "feature_57     21503\n",
       "feature_58        15\n",
       "feature_59        15\n",
       "feature_60        15\n",
       "feature_61     23887\n",
       "feature_62        15\n",
       "feature_63        15\n",
       "feature_64        15\n",
       "feature_65        15\n",
       "feature_66        15\n",
       "feature_67        15\n",
       "feature_68        15\n",
       "feature_69        15\n",
       "feature_70        15\n",
       "feature_71        15\n",
       "feature_72        15\n",
       "feature_73     20951\n",
       "feature_74     23879\n",
       "feature_75        15\n",
       "feature_76        15\n",
       "feature_77         0\n",
       "feature_78        15\n",
       "feature_79        15\n",
       "Bad_label          0\n",
       "Length: 83, dtype: int64"
      ]
     },
     "execution_count": 9,
     "metadata": {},
     "output_type": "execute_result"
    }
   ],
   "source": [
    "# df_data.isnull().sum(axis=0)"
   ]
  },
  {
   "cell_type": "code",
   "execution_count": 10,
   "metadata": {},
   "outputs": [
    {
     "data": {
      "text/plain": [
       "dt_opened        0\n",
       "customer_no      0\n",
       "upload_dt      110\n",
       "enquiry_dt     110\n",
       "enq_purpose    110\n",
       "enq_amt        110\n",
       "dtype: int64"
      ]
     },
     "execution_count": 10,
     "metadata": {},
     "output_type": "execute_result"
    }
   ],
   "source": [
    "# df_enquiry.isnull().sum(axis=0)"
   ]
  },
  {
   "cell_type": "code",
   "execution_count": 11,
   "metadata": {
    "collapsed": true,
    "scrolled": true
   },
   "outputs": [],
   "source": [
    "newdf = df_account\n",
    "newdf1 = df_enquiry"
   ]
  },
  {
   "cell_type": "code",
   "execution_count": 12,
   "metadata": {
    "collapsed": true
   },
   "outputs": [],
   "source": [
    "#  Assuming current date for null last_paymt_dt.\n",
    "newdf.last_paymt_dt.fillna(datetime.datetime.now(),inplace=True)"
   ]
  },
  {
   "cell_type": "code",
   "execution_count": 13,
   "metadata": {
    "collapsed": true
   },
   "outputs": [],
   "source": [
    "# Assuming value of 0.0001 for null high_credit_amt and then high_credit_amt is assumed for null creditlimit.\n",
    "# newdf.high_credit_amt.fillna(0.0001, inplace=True)\n",
    "# newdf.creditlimit.fillna(newdf.high_credit_amt, inplace=True)"
   ]
  },
  {
   "cell_type": "code",
   "execution_count": 14,
   "metadata": {
    "collapsed": true
   },
   "outputs": [],
   "source": [
    "newdf['diff_opened_lastPaymt_dt'] = newdf['opened_dt'].sub(newdf['last_paymt_dt'], axis=0)\n",
    "newdf['diff_opened_lastPaymt_dt'] = newdf['diff_opened_lastPaymt_dt'] / np.timedelta64(1, 'D')\n",
    "# newdf.isnull().sum(axis=0)"
   ]
  },
  {
   "cell_type": "code",
   "execution_count": 15,
   "metadata": {
    "collapsed": true
   },
   "outputs": [],
   "source": [
    "# ----------------------------------------------------Deriving Account Features--------------------------------------------------------\n",
    "newdf['highcr-creditlimt'] = newdf['high_credit_amt'] - newdf['creditlimit']\n",
    "newdf['currBal-highcr'] = newdf['cur_balance_amt'] - newdf['high_credit_amt']\n",
    "newdf['currbal-creditlimit'] = newdf['cur_balance_amt'] - newdf['creditlimit']\n",
    "# newdf.isnull().sum(axis=0)"
   ]
  },
  {
   "cell_type": "code",
   "execution_count": 16,
   "metadata": {
    "collapsed": true
   },
   "outputs": [],
   "source": [
    "newdf['1DPDReported'] = latestNdpd(newdf['paymenthistory1'].values, freq=1)\n",
    "newdf['2DPDReported'] = newdf['1DPDReported'] | latestNdpd(newdf['paymenthistory1'].values, freq=2)\n",
    "newdf['3DPDReported'] = newdf['2DPDReported'] | latestNdpd(newdf['paymenthistory1'].values, freq=3)\n",
    "newdf['totalDPD'] = latestNdpd(newdf['paymenthistory1'].values)\n",
    "newdf['frequencyofDPDreported'] = frequencyOfDPD(newdf['paymenthistory1'].values)\n",
    "# newdf.isnull().sum(axis=0)"
   ]
  },
  {
   "cell_type": "code",
   "execution_count": 17,
   "metadata": {
    "collapsed": true
   },
   "outputs": [],
   "source": [
    "group1 = newdf.groupby('customer_no', as_index=False).agg({'acct_type': ['count'],'diff_opened_lastPaymt_dt': ['mean','sum'],'highcr-creditlimt': ['mean','sum'],'currBal-highcr': ['mean','sum'], 'currbal-creditlimit': ['mean','sum'], '1DPDReported': ['mean','sum'], '2DPDReported': ['mean','sum'], '3DPDReported': ['mean','sum'], 'totalDPD': ['mean','sum'], 'frequencyofDPDreported': ['mean','sum'], 'cur_balance_amt': ['mean','sum','std','count'], 'creditlimit': ['mean','sum','std'], 'high_credit_amt': ['mean','sum','std']})\n",
    "# group1.columns.values"
   ]
  },
  {
   "cell_type": "code",
   "execution_count": 18,
   "metadata": {
    "collapsed": true
   },
   "outputs": [],
   "source": [
    "df_derived = pd.DataFrame()\n",
    "df_derived['customer_no'] = group1['customer_no']"
   ]
  },
  {
   "cell_type": "code",
   "execution_count": 19,
   "metadata": {
    "collapsed": true
   },
   "outputs": [],
   "source": [
    "df_derived['diff_opened_lastPaymt_dt_sum'] = group1[('diff_opened_lastPaymt_dt','sum')]\n",
    "# df_derived['diff_highcr_creditlim_sum'] = d1[('highcr-creditlimt','sum')]\n",
    "df_derived['diff_highcr_creditlim_mean'] = group1[('highcr-creditlimt','mean')]\n",
    "# df_derived['diff_highcr_currbal_sum'] = d3[('highcr-currBal','sum')]\n",
    "df_derived['1DPDReported_mean'] = group1[('1DPDReported','mean')]\n",
    "df_derived['2DPDReported_mean'] = group1[('2DPDReported','mean')]\n",
    "df_derived['3DPDReported_mean'] = group1[('3DPDReported','mean')]\n",
    "df_derived['totalDPD_sum'] = group1[('3DPDReported','sum')]\n",
    "df_derived['frequencyofDPDreported_mean'] = group1[('frequencyofDPDreported','mean')]\n",
    "\n",
    "df_derived['ratio_totalCurrbal_totalcrlim'] = group1[('cur_balance_amt','sum')]/group1[('creditlimit','sum')]\n",
    "df_derived['ratio_totalCurrbal_totalhighCr'] = group1[('cur_balance_amt','sum')]/group1[('high_credit_amt','sum')]\n",
    "df_derived['ratio_totalhighcr_totalcrlim'] = group1[('high_credit_amt','sum')]/group1[('creditlimit','sum')]\n",
    "# df_derived.isnull().sum(axis=0)"
   ]
  },
  {
   "cell_type": "code",
   "execution_count": 20,
   "metadata": {
    "collapsed": true
   },
   "outputs": [],
   "source": [
    "d1 = newdf.groupby('customer_no',as_index=False)['acct_type'].apply(countCredit).reset_index(name='creditcount')\n",
    "df_derived['avg_creditcount'] = d1.creditcount"
   ]
  },
  {
   "cell_type": "code",
   "execution_count": 21,
   "metadata": {
    "collapsed": true
   },
   "outputs": [],
   "source": [
    "d1 = newdf.groupby('customer_no',as_index=False)['acct_type'].apply(countAccount).reset_index(name='loancount')\n",
    "df_derived['avg_loancount'] = d1.loancount/group1[('acct_type','count')]"
   ]
  },
  {
   "cell_type": "code",
   "execution_count": 22,
   "metadata": {
    "collapsed": true
   },
   "outputs": [],
   "source": [
    "d1 = newdf.groupby('customer_no',as_index=False)['paymenthistory1'].apply(paymthistorylength).reset_index(name='historylength')\n",
    "df_derived['avg_payhistlength'] = d1.historylength"
   ]
  },
  {
   "cell_type": "code",
   "execution_count": 23,
   "metadata": {
    "collapsed": true
   },
   "outputs": [],
   "source": [
    "d_1 = newdf[newdf['high_credit_amt'] > newdf['creditlimit']]\n",
    "g_1 = d_1.groupby('customer_no').size().reset_index(name='count')\n",
    "g_2 = newdf.groupby('customer_no').size().reset_index(name='count')\n",
    "l = (g_2[~g_2['customer_no'].isin(g_1['customer_no'])==True].customer_no).tolist()\n",
    "d = pd.DataFrame()\n",
    "d['customer_no'] = l\n",
    "d['count'] = [0 for i in range(len(d))]\n",
    "d1 = pd.concat([g_1, d], ignore_index=True)\n",
    "d1.sort_values('customer_no',inplace=True)\n",
    "d1.reset_index(drop=True,inplace=True)\n",
    "d1['meancount'] = d1['count']/group1[('acct_type','count')]\n",
    "df_derived['meanAcctWithHighCrGreaterThanCreditLim'] = d1['meancount']"
   ]
  },
  {
   "cell_type": "code",
   "execution_count": 24,
   "metadata": {
    "collapsed": true
   },
   "outputs": [],
   "source": [
    "d_1 = newdf[newdf['cur_balance_amt'] == 0]\n",
    "g_1 = d_1.groupby('customer_no').size().reset_index(name='count')\n",
    "g_2 = newdf.groupby('customer_no').size().reset_index(name='count')\n",
    "l = (g_2[~g_2['customer_no'].isin(g_1['customer_no'])==True].customer_no).tolist()\n",
    "d = pd.DataFrame()\n",
    "d['customer_no'] = l\n",
    "d['count'] = [0 for i in range(len(d))]\n",
    "d1 = pd.concat([g_1, d], ignore_index=True)\n",
    "d1.sort_values('customer_no',inplace=True)\n",
    "d1.reset_index(drop=True,inplace=True)\n",
    "d1['meancount'] = d1['count']/group1[('acct_type','count')]\n",
    "# df_derived['meanAcctWithCurrBalEqualsZero'] = d1['meancount']\n",
    "df_derived['meanAcctWithCurrBalEqualsZero'] = d1['count']"
   ]
  },
  {
   "cell_type": "code",
   "execution_count": 25,
   "metadata": {
    "collapsed": true
   },
   "outputs": [],
   "source": [
    "#--------------------------------------------Deriving Enquiry Features-----------------------------------------------------------\n",
    "d1 = newdf1.enquiry_dt.values\n",
    "d2 = d1[1:]\n",
    "d2 = np.append(d2,d1[-1])\n",
    "d = (d2-d1)/np.timedelta64(1, 'D')\n",
    "newdf1['GapEnquiryDates'] = abs(d)"
   ]
  },
  {
   "cell_type": "code",
   "execution_count": 26,
   "metadata": {
    "collapsed": true
   },
   "outputs": [],
   "source": [
    "group2 = newdf1.groupby('customer_no', as_index=False).agg({'dt_opened': ['count'],'upload_dt': ['count'],'enquiry_dt': ['count'],'enq_purpose': ['count'], 'enq_amt': ['count'],'enq_purpose': findMode,'GapEnquiryDates': ['mean','sum']})"
   ]
  },
  {
   "cell_type": "code",
   "execution_count": 27,
   "metadata": {
    "collapsed": true
   },
   "outputs": [],
   "source": [
    "df_derived['meanGapEnquiryDates'] = group2[('GapEnquiryDates','mean')]"
   ]
  },
  {
   "cell_type": "code",
   "execution_count": 28,
   "metadata": {
    "collapsed": true
   },
   "outputs": [],
   "source": [
    "df_derived['mostFrequentEnquiryPorpose'] = group2[('enq_purpose','findMode')]"
   ]
  },
  {
   "cell_type": "code",
   "execution_count": 29,
   "metadata": {
    "collapsed": true
   },
   "outputs": [],
   "source": [
    "values = []\n",
    "for i in group2.customer_no:\n",
    "    values.append(newdf1[newdf1.customer_no==i].enq_purpose.values[0])\n",
    "df_derived['mostRecentEnquiryPorpose'] = values"
   ]
  },
  {
   "cell_type": "code",
   "execution_count": 30,
   "metadata": {
    "collapsed": true
   },
   "outputs": [],
   "source": [
    "newdf2 = df_data.select_dtypes(['float64', 'int64', 'float32','int32'])\n",
    "for col in newdf2.columns.values.tolist():\n",
    "    df_derived[col] = newdf2[col]"
   ]
  },
  {
   "cell_type": "code",
   "execution_count": 31,
   "metadata": {
    "collapsed": true
   },
   "outputs": [],
   "source": [
    "df_derived.replace(np.nan,\"NaN\",inplace=True)\n",
    "df_derived.replace(np.inf,\"NaN\",inplace=True)\n",
    "df_derived.replace(-np.inf,\"NaN\",inplace=True)\n",
    "df_derived.to_csv(r'C:\\Users\\Dell\\Desktop\\Train.csv')"
   ]
  },
  {
   "cell_type": "code",
   "execution_count": 32,
   "metadata": {},
   "outputs": [
    {
     "data": {
      "text/plain": [
       "customer_no                                   0\n",
       "diff_opened_lastPaymt_dt_sum                  0\n",
       "diff_highcr_creditlim_mean                 4192\n",
       "1DPDReported_mean                             0\n",
       "2DPDReported_mean                             0\n",
       "3DPDReported_mean                             0\n",
       "totalDPD_sum                                  0\n",
       "frequencyofDPDreported_mean                   0\n",
       "ratio_totalCurrbal_totalcrlim              4024\n",
       "ratio_totalCurrbal_totalhighCr               13\n",
       "ratio_totalhighcr_totalcrlim               4028\n",
       "avg_creditcount                               0\n",
       "avg_loancount                                 0\n",
       "avg_payhistlength                             0\n",
       "meanAcctWithHighCrGreaterThanCreditLim        0\n",
       "meanAcctWithCurrBalEqualsZero                 0\n",
       "meanGapEnquiryDates                         110\n",
       "mostFrequentEnquiryPorpose                    0\n",
       "mostRecentEnquiryPorpose                    109\n",
       "feature_3                                  2836\n",
       "feature_4                                    15\n",
       "feature_6                                    15\n",
       "feature_7                                    15\n",
       "feature_14                                 7733\n",
       "feature_19                                   15\n",
       "feature_25                                   15\n",
       "feature_26                                   15\n",
       "feature_29                                   15\n",
       "feature_30                                   15\n",
       "feature_31                                   15\n",
       "feature_34                                   15\n",
       "feature_35                                   15\n",
       "feature_39                                   15\n",
       "feature_40                                   15\n",
       "feature_41                                   15\n",
       "feature_42                                   15\n",
       "feature_44                                   15\n",
       "feature_49                                23792\n",
       "feature_52                                   15\n",
       "feature_55                                   15\n",
       "feature_56                                   15\n",
       "feature_64                                   15\n",
       "feature_65                                   15\n",
       "feature_66                                   15\n",
       "feature_67                                   15\n",
       "feature_68                                   15\n",
       "feature_69                                   15\n",
       "feature_71                                   15\n",
       "feature_74                                23879\n",
       "feature_76                                   15\n",
       "feature_78                                   15\n",
       "Bad_label                                     0\n",
       "dtype: int64"
      ]
     },
     "execution_count": 32,
     "metadata": {},
     "output_type": "execute_result"
    }
   ],
   "source": [
    "# df_derived.isnull().sum(axis=0)"
   ]
  },
  {
   "cell_type": "code",
   "execution_count": 33,
   "metadata": {},
   "outputs": [
    {
     "data": {
      "text/plain": [
       "52"
      ]
     },
     "execution_count": 33,
     "metadata": {},
     "output_type": "execute_result"
    }
   ],
   "source": [
    "len(df_derived.columns.values)"
   ]
  }
 ],
 "metadata": {
  "anaconda-cloud": {},
  "kernelspec": {
   "display_name": "Python 3",
   "language": "python",
   "name": "python3"
  },
  "language_info": {
   "codemirror_mode": {
    "name": "ipython",
    "version": 3
   },
   "file_extension": ".py",
   "mimetype": "text/x-python",
   "name": "python",
   "nbconvert_exporter": "python",
   "pygments_lexer": "ipython3",
   "version": "3.6.3"
  }
 },
 "nbformat": 4,
 "nbformat_minor": 1
}
